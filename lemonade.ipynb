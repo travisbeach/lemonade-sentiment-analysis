{
 "cells": [
  {
   "cell_type": "markdown",
   "metadata": {},
   "source": [
    "Exploring Sentiment in Beyonce's 'LEMONADE'\n",
    "------------------------------------------\n",
    "### Author: Travis Beach, trb96[at]cornell.edu\n",
    "\n",
    "#### Description: \n",
    "The following notebook will use a text file of URLs to scrape <code>azlyrics.com</code>. It will process the HTML and use [NLTK's VADER](http://www.nltk.org/_modules/nltk/sentiment/vader.html) sentiment analysis tools. The output will be visualized using D3.js.\n",
    "\n",
    "#### Background:\n",
    "'LEMONADE' takes listeners on a journey through dispair and revenge to healing and acceptance. The album's title is a nod to the proverb, [\"When life gives you lemons, make lemonade\"](https://en.wikipedia.org/wiki/When_life_gives_you_lemons,_make_lemonade). \n",
    "\n",
    "#### Hypothesis:\n",
    "Due to the flucuating themes of the album, the sentiment will likely vary greatly across tracks, starting more negative, and ending more positive. "
   ]
  },
  {
   "cell_type": "code",
   "execution_count": 1,
   "metadata": {
    "collapsed": true
   },
   "outputs": [],
   "source": [
    "import matplotlib.pyplot as plt\n",
    "import urllib2\n",
    "from bs4 import BeautifulSoup\n",
    "from bs4 import Comment\n",
    "import re\n",
    "import nltk\n",
    "import json\n",
    "from IPython.core.display import display, HTML\n",
    "from IPython.display import Javascript"
   ]
  },
  {
   "cell_type": "markdown",
   "metadata": {},
   "source": [
    "#### Scrape and Preprocess Data"
   ]
  },
  {
   "cell_type": "code",
   "execution_count": 2,
   "metadata": {
    "collapsed": false
   },
   "outputs": [],
   "source": [
    "#read files into list\n",
    "with open('urls.txt', 'r') as f:\n",
    "    urls = f.readlines()\n",
    "    \n",
    "#trim each one to remove new line\n",
    "urls = [url.strip() for url in urls]"
   ]
  },
  {
   "cell_type": "code",
   "execution_count": 3,
   "metadata": {
    "collapsed": false
   },
   "outputs": [],
   "source": [
    "def getHTML(url):\n",
    "    return urllib2.urlopen(url).read()\n",
    "\n",
    "def removeHTML(raw_html):\n",
    "    reg = re.compile(r'<.*?>')\n",
    "    return reg.sub('', raw_html)\n",
    "\n",
    "#Remove mentions of other artists in the form of, '[CHORUS: Beyonce]'\n",
    "def removeMention(raw_html):\n",
    "    reg = re.compile(r'\\[.*?\\]')\n",
    "    return reg.sub('', raw_html)"
   ]
  },
  {
   "cell_type": "code",
   "execution_count": 4,
   "metadata": {
    "collapsed": true
   },
   "outputs": [],
   "source": [
    "#get HTML from each page. \n",
    "html_pages = {i: getHTML(url) for i, url in enumerate(urls)}\n",
    "    "
   ]
  },
  {
   "cell_type": "code",
   "execution_count": 5,
   "metadata": {
    "collapsed": false
   },
   "outputs": [],
   "source": [
    "def get_title(raw_html):\n",
    "    soup=BeautifulSoup(raw_html, 'html.parser')\n",
    "    title = soup.find('div', class_=\"ringtone\").next_sibling.next_sibling.string\n",
    "    return title.replace(\"\\'\", '')"
   ]
  },
  {
   "cell_type": "code",
   "execution_count": 6,
   "metadata": {
    "collapsed": false
   },
   "outputs": [],
   "source": [
    "def process_html(raw_html):\n",
    "    soup = BeautifulSoup(raw_html, 'html.parser')\n",
    "    #kind of limited in how to get the actual lyrics out of the page. \n",
    "    #going to find the comment disclaimer and then hop through the lyrics. \n",
    "    \n",
    "    #Select all of the comments\n",
    "    comments=soup.find_all(string=lambda text:isinstance(text,Comment))\n",
    "\n",
    "    #filter it specifically for \"licensing agreement\"\n",
    "    comment = [comment for comment in comments if \"licensing agreement\" in comment.string][0]\n",
    "    \n",
    "    #put each lyric section in a list. first line + the rest in a chunk. \n",
    "    lyrics = []\n",
    "    lyrics.append(unicode(comment.next_sibling))\n",
    "    lyrics.append(unicode(comment.next_sibling.next_sibling))\n",
    "    lyrics.append(unicode(comment.next_sibling.next_sibling.next_sibling))\n",
    "    raw_html = u''.join(lyrics)\n",
    "    \n",
    "    #strip the html tags. \n",
    "    processed_input = removeHTML(raw_html)\n",
    "    processed_input = removeMention(processed_input)\n",
    "    \n",
    "    #process the strings a little more. \n",
    "    word_array = processed_input.replace('\\n', ' ').replace(\"\\'\", '').strip().lower()\n",
    "    if word_array[-1] == 'none':\n",
    "        word_array.pop();\n",
    "    return word_array;\n"
   ]
  },
  {
   "cell_type": "code",
   "execution_count": 7,
   "metadata": {
    "collapsed": false
   },
   "outputs": [],
   "source": [
    "#processed_lyrics[song_id] = ['processed', 'lyrics']\n",
    "processed_lyrics = {i: process_html(html_pages[i]) for i in html_pages}"
   ]
  },
  {
   "cell_type": "code",
   "execution_count": 8,
   "metadata": {
    "collapsed": false
   },
   "outputs": [],
   "source": [
    "#titles[i] = \"title\"\n",
    "titles = {i: get_title(html_pages[i]) for i in html_pages}"
   ]
  },
  {
   "cell_type": "markdown",
   "metadata": {},
   "source": [
    "#### Analyze Sentiment of each song"
   ]
  },
  {
   "cell_type": "code",
   "execution_count": 9,
   "metadata": {
    "collapsed": false
   },
   "outputs": [
    {
     "name": "stderr",
     "output_type": "stream",
     "text": [
      "/Users/Travis/anaconda/lib/python2.7/site-packages/nltk/twitter/__init__.py:20: UserWarning: The twython library has not been installed. Some functionality from the twitter package will not be available.\n",
      "  warnings.warn(\"The twython library has not been installed. \"\n"
     ]
    }
   ],
   "source": [
    "#VADER is specifically for social media corpora, but should work okay for similarly informal lyrics\n",
    "from nltk.sentiment.vader import SentimentIntensityAnalyzer"
   ]
  },
  {
   "cell_type": "code",
   "execution_count": 10,
   "metadata": {
    "collapsed": false
   },
   "outputs": [],
   "source": [
    "#instantiate sentiment analyzer\n",
    "vader = SentimentIntensityAnalyzer()"
   ]
  },
  {
   "cell_type": "code",
   "execution_count": 11,
   "metadata": {
    "collapsed": false
   },
   "outputs": [],
   "source": [
    "def calculate_sentiment(analyzer, processed_input):\n",
    "    return analyzer.polarity_scores(processed_input)\n",
    "sentiment = {i:calculate_sentiment(vader, processed_lyrics[i]) for i in processed_lyrics}"
   ]
  },
  {
   "cell_type": "code",
   "execution_count": 12,
   "metadata": {
    "collapsed": false
   },
   "outputs": [],
   "source": [
    "#combine titles and sentiments for export\n",
    "big_structure = [{'id':x, 'title': titles[x], 'sentiment': sentiment[x]} for x in processed_lyrics]"
   ]
  },
  {
   "cell_type": "markdown",
   "metadata": {},
   "source": [
    "#### Pass data to javascript and visualize with D3"
   ]
  },
  {
   "cell_type": "code",
   "execution_count": 13,
   "metadata": {
    "collapsed": false
   },
   "outputs": [
    {
     "data": {
      "application/javascript": [
       "require.config({\n",
       "  paths: {\n",
       "      d3: '//cdnjs.cloudflare.com/ajax/libs/d3/3.4.8/d3.min'\n",
       "  }\n",
       "});"
      ],
      "text/plain": [
       "<IPython.core.display.Javascript object>"
      ]
     },
     "metadata": {},
     "output_type": "display_data"
    }
   ],
   "source": [
    "%%javascript\n",
    "require.config({\n",
    "  paths: {\n",
    "      d3: '//cdnjs.cloudflare.com/ajax/libs/d3/3.4.8/d3.min'\n",
    "  }\n",
    "});"
   ]
  },
  {
   "cell_type": "code",
   "execution_count": 14,
   "metadata": {
    "collapsed": false
   },
   "outputs": [
    {
     "data": {
      "application/javascript": [
       "window.vizObj=[{\"id\": 0, \"sentiment\": {\"neg\": 0.054, \"neu\": 0.668, \"pos\": 0.278, \"compound\": 0.9918}, \"title\": \"\\\"Pray You Catch Me\\\"\"}, {\"id\": 1, \"sentiment\": {\"neg\": 0.42, \"neu\": 0.518, \"pos\": 0.062, \"compound\": -0.9998}, \"title\": \"\\\"Hold Up\\\"\"}, {\"id\": 2, \"sentiment\": {\"neg\": 0.145, \"neu\": 0.61, \"pos\": 0.245, \"compound\": 0.9915}, \"title\": \"\\\"Dont Hurt Yourself\\\"\"}, {\"id\": 3, \"sentiment\": {\"neg\": 0.146, \"neu\": 0.732, \"pos\": 0.122, \"compound\": 0.8935}, \"title\": \"\\\"Sorry\\\"\"}, {\"id\": 4, \"sentiment\": {\"neg\": 0.094, \"neu\": 0.792, \"pos\": 0.113, \"compound\": -0.1962}, \"title\": \"\\\"6 Inch\\\"\"}, {\"id\": 5, \"sentiment\": {\"neg\": 0.157, \"neu\": 0.72, \"pos\": 0.123, \"compound\": -0.933}, \"title\": \"\\\"Daddy Lessons\\\"\"}, {\"id\": 6, \"sentiment\": {\"neg\": 0.161, \"neu\": 0.675, \"pos\": 0.164, \"compound\": 0.3421}, \"title\": \"\\\"Love Drought\\\"\"}, {\"id\": 7, \"sentiment\": {\"neg\": 0.189, \"neu\": 0.774, \"pos\": 0.036, \"compound\": -0.9529}, \"title\": \"\\\"Sandcastles\\\"\"}, {\"id\": 8, \"sentiment\": {\"neg\": 0.033, \"neu\": 0.794, \"pos\": 0.173, \"compound\": 0.9022}, \"title\": \"\\\"Forward\\\"\"}, {\"id\": 9, \"sentiment\": {\"neg\": 0.074, \"neu\": 0.654, \"pos\": 0.272, \"compound\": 0.9988}, \"title\": \"\\\"Freedom\\\"\"}, {\"id\": 10, \"sentiment\": {\"neg\": 0.057, \"neu\": 0.655, \"pos\": 0.288, \"compound\": 0.9989}, \"title\": \"\\\"All Night\\\"\"}, {\"id\": 11, \"sentiment\": {\"neg\": 0.134, \"neu\": 0.715, \"pos\": 0.151, \"compound\": 0.7768}, \"title\": \"\\\"Formation\\\"\"}];"
      ],
      "text/plain": [
       "<IPython.core.display.Javascript object>"
      ]
     },
     "execution_count": 14,
     "metadata": {},
     "output_type": "execute_result"
    }
   ],
   "source": [
    "json_struct = json.dumps(big_structure)\n",
    "#runs arbitrary javascript, client-side\n",
    "Javascript(\"window.data={};\".format('\"test format\"'))\n",
    "Javascript(\"window.vizObj={};\".format(json_struct))"
   ]
  },
  {
   "cell_type": "code",
   "execution_count": 15,
   "metadata": {
    "collapsed": false
   },
   "outputs": [
    {
     "data": {
      "text/html": [
       "\n",
       "<style>\n",
       "\n",
       "\n",
       ".axis {\n",
       " font: 10px sans-serif;\n",
       "}\n",
       ".axis path,\n",
       ".axis line {\n",
       " fill: none;\n",
       " stroke: #000;\n",
       "}\n",
       ".axis text{\n",
       "    fill: black\n",
       "    \n",
       "}\n",
       "\n",
       "path { \n",
       "    stroke: #d3d3d3;\n",
       "    stroke-width: 2;\n",
       "    fill: none;\n",
       "}\n",
       ".circle{\n",
       "    fill: black\n",
       "}\n",
       ".circle:hover{\n",
       "    opacity: 0.5\n",
       "}\n",
       ".bold{\n",
       "font-weight: 700\n",
       "}\n",
       "\n",
       "</style>\n",
       "\n"
      ],
      "text/plain": [
       "<IPython.core.display.HTML object>"
      ]
     },
     "metadata": {},
     "output_type": "display_data"
    }
   ],
   "source": [
    "#setup 'stylesheet'\n",
    "display(HTML(\"\"\"\n",
    "<style>\n",
    "\n",
    "\n",
    ".axis {\n",
    " font: 10px sans-serif;\n",
    "}\n",
    ".axis path,\n",
    ".axis line {\n",
    " fill: none;\n",
    " stroke: #000;\n",
    "}\n",
    ".axis text{\n",
    "    fill: black\n",
    "    \n",
    "}\n",
    "\n",
    "path { \n",
    "    stroke: #d3d3d3;\n",
    "    stroke-width: 2;\n",
    "    fill: none;\n",
    "}\n",
    ".circle{\n",
    "    fill: black\n",
    "}\n",
    ".circle:hover{\n",
    "    opacity: 0.5\n",
    "}\n",
    ".bold{\n",
    "font-weight: 700\n",
    "}\n",
    "\n",
    "</style>\n",
    "\n",
    "\"\"\"))"
   ]
  },
  {
   "cell_type": "code",
   "execution_count": 16,
   "metadata": {
    "collapsed": false,
    "scrolled": false
   },
   "outputs": [
    {
     "data": {
      "application/javascript": [
       "\n",
       "//add d3 \n",
       "require(['d3'], function(d3){\n",
       "    \n",
       "    // Set the dimensions of the canvas / graph\n",
       "    var margin = {top: 50, right: 20, bottom: 50, left: 50},\n",
       "    width = 800 - margin.left - margin.right,\n",
       "    height = 600 - margin.top - margin.bottom;\n",
       "    \n",
       "    //add chart div and area for graph labels\n",
       "    element.append(\"<div id='chart1'><p id='title'>Click on a circle to show song title</p><p id='score'>  </p></div>\");\n",
       "   \n",
       "    //append svg\n",
       "    var svg = d3.select(\"#chart1\")\n",
       "                .append(\"svg\")\n",
       "                .attr(\"width\", 800)\n",
       "                .attr(\"height\", 500)\n",
       "                .attr(\"id\", \"chartSvg\");\n",
       "    \n",
       "    //create scale functions\n",
       "    var xScale = d3.scale.linear()\n",
       "                    .domain(d3.extent(window.vizObj, (d, i)=> i))\n",
       "                    .range([margin.left, width-margin.right]); \n",
       "    var yScale = d3.scale.linear()\n",
       "                    .domain(d3.extent(window.vizObj, d=>d.sentiment.compound))\n",
       "                    .range([height-margin.top, margin.bottom]); \n",
       "    \n",
       "    // x and y axes \n",
       "    var xAxis = d3.svg.axis()\n",
       "                    .scale(xScale)\n",
       "                    .orient(\"bottom\");\n",
       "    var yAxis = d3.svg.axis()\n",
       "                    .scale(yScale)\n",
       "                    .orient(\"left\");\n",
       "    \n",
       "    //function for converting data to svg path\n",
       "    var lineFunction = d3.svg.line()\n",
       "                    .x(d=>xScale(d.id))\n",
       "                    .y(d=>yScale(d.sentiment.compound));\n",
       "    \n",
       "    // add the path.\n",
       "    svg.append(\"path\")\n",
       "        .attr(\"class\", \"line\")\n",
       "        .attr(\"d\", lineFunction(window.vizObj));\n",
       "\n",
       "    // Add the X Axis\n",
       "    svg.append(\"g\")\n",
       "        .attr(\"class\", \"x axis\")\n",
       "        .attr(\"transform\", \"translate(0,\" + height/2 + \")\")\n",
       "        .call(xAxis)\n",
       "\n",
       "    // Add the Y Axis\n",
       "    svg.append(\"g\")\n",
       "        .attr(\"class\", \"y axis\")\n",
       "        .attr(\"transform\", \"translate(\"+margin.left+\", 0)\")\n",
       "        .call(yAxis);\n",
       "    \n",
       "    svg.append('text')\n",
       "        .attr(\"x\", width)\n",
       "        .attr(\"y\", height/2-2)\n",
       "        .style(\"font-size\", 10)\n",
       "        .text(\"Track Number\")\n",
       "        .attr(\"text-anchor\", \"end\")\n",
       "    svg.append('text')\n",
       "        .attr(\"x\", margin.left)\n",
       "        .attr(\"y\", margin.top -10)\n",
       "        .style(\"font-size\", 10)\n",
       "        .attr(\"text-anchor\", \"end\")\n",
       "        .text(\"Sentiment\")\n",
       "\n",
       "    // add a circle for each song. \n",
       "    var circles = svg.selectAll(\".circle\")\n",
       "                    .data(window.vizObj)\n",
       "                    .enter()\n",
       "                    .append(\"circle\")\n",
       "                    .attr(\"cx\", d=>xScale(d.id))\n",
       "                    .attr(\"cy\", d=>yScale(d.sentiment.compound))\n",
       "                    .attr(\"r\", 5)\n",
       "                    .attr(\"class\", \"circle\")\n",
       "                    //edit title and score <p>s on hover \n",
       "                    .on(\"mouseover\", function(d){\n",
       "                        var selectedObject = d;\n",
       "                        d3.select(\"#title\").html(\"<span class='bold'>Title: </span>\"+selectedObject.title)\n",
       "                        d3.select(\"#score\").html(\"<span class='bold'>Score: </span>\"+selectedObject.sentiment.compound)                  \n",
       "                    })\n",
       "})"
      ],
      "text/plain": [
       "<IPython.core.display.Javascript object>"
      ]
     },
     "metadata": {},
     "output_type": "display_data"
    }
   ],
   "source": [
    "%%javascript\n",
    "\n",
    "//add d3 \n",
    "require(['d3'], function(d3){\n",
    "    \n",
    "    // Set the dimensions of the canvas / graph\n",
    "    var margin = {top: 50, right: 20, bottom: 50, left: 50},\n",
    "    width = 800 - margin.left - margin.right,\n",
    "    height = 600 - margin.top - margin.bottom;\n",
    "    \n",
    "    //add chart div and area for graph labels\n",
    "    element.append(\"<div id='chart1'><p id='title'>Click on a circle to show song title</p><p id='score'>  </p></div>\");\n",
    "   \n",
    "    //append svg\n",
    "    var svg = d3.select(\"#chart1\")\n",
    "                .append(\"svg\")\n",
    "                .attr(\"width\", 800)\n",
    "                .attr(\"height\", 500)\n",
    "                .attr(\"id\", \"chartSvg\");\n",
    "    \n",
    "    //create scale functions\n",
    "    var xScale = d3.scale.linear()\n",
    "                    .domain(d3.extent(window.vizObj, (d, i)=> i))\n",
    "                    .range([margin.left, width-margin.right]); \n",
    "    var yScale = d3.scale.linear()\n",
    "                    .domain(d3.extent(window.vizObj, d=>d.sentiment.compound))\n",
    "                    .range([height-margin.top, margin.bottom]); \n",
    "    \n",
    "    // x and y axes \n",
    "    var xAxis = d3.svg.axis()\n",
    "                    .scale(xScale)\n",
    "                    .orient(\"bottom\");\n",
    "    var yAxis = d3.svg.axis()\n",
    "                    .scale(yScale)\n",
    "                    .orient(\"left\");\n",
    "    \n",
    "    //function for converting data to svg path\n",
    "    var lineFunction = d3.svg.line()\n",
    "                    .x(d=>xScale(d.id))\n",
    "                    .y(d=>yScale(d.sentiment.compound));\n",
    "    \n",
    "    // add the path.\n",
    "    svg.append(\"path\")\n",
    "        .attr(\"class\", \"line\")\n",
    "        .attr(\"d\", lineFunction(window.vizObj));\n",
    "\n",
    "    // Add the X Axis\n",
    "    svg.append(\"g\")\n",
    "        .attr(\"class\", \"x axis\")\n",
    "        .attr(\"transform\", \"translate(0,\" + height/2 + \")\")\n",
    "        .call(xAxis)\n",
    "\n",
    "    // Add the Y Axis\n",
    "    svg.append(\"g\")\n",
    "        .attr(\"class\", \"y axis\")\n",
    "        .attr(\"transform\", \"translate(\"+margin.left+\", 0)\")\n",
    "        .call(yAxis);\n",
    "    \n",
    "    svg.append('text')\n",
    "        .attr(\"x\", width)\n",
    "        .attr(\"y\", height/2-2)\n",
    "        .style(\"font-size\", 10)\n",
    "        .text(\"Track Number\")\n",
    "        .attr(\"text-anchor\", \"end\")\n",
    "    svg.append('text')\n",
    "        .attr(\"x\", margin.left)\n",
    "        .attr(\"y\", margin.top -10)\n",
    "        .style(\"font-size\", 10)\n",
    "        .attr(\"text-anchor\", \"end\")\n",
    "        .text(\"Sentiment\")\n",
    "\n",
    "    // add a circle for each song. \n",
    "    var circles = svg.selectAll(\".circle\")\n",
    "                    .data(window.vizObj)\n",
    "                    .enter()\n",
    "                    .append(\"circle\")\n",
    "                    .attr(\"cx\", d=>xScale(d.id))\n",
    "                    .attr(\"cy\", d=>yScale(d.sentiment.compound))\n",
    "                    .attr(\"r\", 5)\n",
    "                    .attr(\"class\", \"circle\")\n",
    "                    //edit title and score <p>s on hover \n",
    "                    .on(\"mouseover\", function(d){\n",
    "                        var selectedObject = d;\n",
    "                        d3.select(\"#title\").html(\"<span class='bold'>Title: </span>\"+selectedObject.title)\n",
    "                        d3.select(\"#score\").html(\"<span class='bold'>Score: </span>\"+selectedObject.sentiment.compound)                  \n",
    "                    })\n",
    "})"
   ]
  },
  {
   "cell_type": "markdown",
   "metadata": {
    "collapsed": true
   },
   "source": [
    "#### Results\n",
    "The plot above shows how the sentiment of the album changes over time. Tracks such as \"Daddy Lessons\", where Beyonce recounts her own father's infidelity and \"Sandcastles\" which describes a past love gone wrong both receive very low scores. As expected, Beyonce made lemonade from the lemons in previous tracks and tracks 8-11 are very positive."
   ]
  }
 ],
 "metadata": {
  "anaconda-cloud": {},
  "kernelspec": {
   "display_name": "Python [conda root]",
   "language": "python",
   "name": "conda-root-py"
  },
  "language_info": {
   "codemirror_mode": {
    "name": "ipython",
    "version": 2
   },
   "file_extension": ".py",
   "mimetype": "text/x-python",
   "name": "python",
   "nbconvert_exporter": "python",
   "pygments_lexer": "ipython2",
   "version": "2.7.12"
  }
 },
 "nbformat": 4,
 "nbformat_minor": 1
}
